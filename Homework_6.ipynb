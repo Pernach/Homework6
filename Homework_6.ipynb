{
 "cells": [
  {
   "cell_type": "markdown",
   "id": "30afca9e",
   "metadata": {},
   "source": [
    "## Загрузка библиотек"
   ]
  },
  {
   "cell_type": "code",
   "execution_count": 1,
   "id": "0f48f34a",
   "metadata": {},
   "outputs": [],
   "source": [
    "import pandas as pd\n",
    "import numpy as np\n",
    "import matplotlib.pyplot as plt\n",
    "import seaborn as sns"
   ]
  },
  {
   "cell_type": "markdown",
   "id": "82199cee",
   "metadata": {},
   "source": [
    "## Загрузка данных"
   ]
  },
  {
   "cell_type": "code",
   "execution_count": 2,
   "id": "4b050b8c",
   "metadata": {},
   "outputs": [],
   "source": [
    "df_start = pd.read_csv('GlobalLandTemperaturesByCity.csv')"
   ]
  },
  {
   "cell_type": "markdown",
   "id": "5a9a378e",
   "metadata": {},
   "source": [
    "## Просмотр информации о данных"
   ]
  },
  {
   "cell_type": "code",
   "execution_count": 3,
   "id": "8d414f48",
   "metadata": {},
   "outputs": [
    {
     "name": "stdout",
     "output_type": "stream",
     "text": [
      "<class 'pandas.core.frame.DataFrame'>\n",
      "RangeIndex: 8599212 entries, 0 to 8599211\n",
      "Data columns (total 7 columns):\n",
      " #   Column                         Dtype  \n",
      "---  ------                         -----  \n",
      " 0   dt                             object \n",
      " 1   AverageTemperature             float64\n",
      " 2   AverageTemperatureUncertainty  float64\n",
      " 3   City                           object \n",
      " 4   Country                        object \n",
      " 5   Latitude                       object \n",
      " 6   Longitude                      object \n",
      "dtypes: float64(2), object(5)\n",
      "memory usage: 459.2+ MB\n"
     ]
    }
   ],
   "source": [
    "df_start.info()"
   ]
  },
  {
   "cell_type": "code",
   "execution_count": 4,
   "id": "13c90d78",
   "metadata": {},
   "outputs": [],
   "source": [
    "df_start['dt'] = pd.to_datetime(df_start['dt'])"
   ]
  },
  {
   "cell_type": "code",
   "execution_count": 5,
   "id": "e1eafd1a",
   "metadata": {},
   "outputs": [
    {
     "data": {
      "text/html": [
       "<div>\n",
       "<style scoped>\n",
       "    .dataframe tbody tr th:only-of-type {\n",
       "        vertical-align: middle;\n",
       "    }\n",
       "\n",
       "    .dataframe tbody tr th {\n",
       "        vertical-align: top;\n",
       "    }\n",
       "\n",
       "    .dataframe thead th {\n",
       "        text-align: right;\n",
       "    }\n",
       "</style>\n",
       "<table border=\"1\" class=\"dataframe\">\n",
       "  <thead>\n",
       "    <tr style=\"text-align: right;\">\n",
       "      <th></th>\n",
       "      <th>dt</th>\n",
       "      <th>AverageTemperature</th>\n",
       "      <th>AverageTemperatureUncertainty</th>\n",
       "      <th>City</th>\n",
       "      <th>Country</th>\n",
       "      <th>Latitude</th>\n",
       "      <th>Longitude</th>\n",
       "    </tr>\n",
       "  </thead>\n",
       "  <tbody>\n",
       "    <tr>\n",
       "      <th>0</th>\n",
       "      <td>1743-11-01</td>\n",
       "      <td>6.068</td>\n",
       "      <td>1.737</td>\n",
       "      <td>Århus</td>\n",
       "      <td>Denmark</td>\n",
       "      <td>57.05N</td>\n",
       "      <td>10.33E</td>\n",
       "    </tr>\n",
       "    <tr>\n",
       "      <th>1</th>\n",
       "      <td>1743-12-01</td>\n",
       "      <td>NaN</td>\n",
       "      <td>NaN</td>\n",
       "      <td>Århus</td>\n",
       "      <td>Denmark</td>\n",
       "      <td>57.05N</td>\n",
       "      <td>10.33E</td>\n",
       "    </tr>\n",
       "    <tr>\n",
       "      <th>2</th>\n",
       "      <td>1744-01-01</td>\n",
       "      <td>NaN</td>\n",
       "      <td>NaN</td>\n",
       "      <td>Århus</td>\n",
       "      <td>Denmark</td>\n",
       "      <td>57.05N</td>\n",
       "      <td>10.33E</td>\n",
       "    </tr>\n",
       "    <tr>\n",
       "      <th>3</th>\n",
       "      <td>1744-02-01</td>\n",
       "      <td>NaN</td>\n",
       "      <td>NaN</td>\n",
       "      <td>Århus</td>\n",
       "      <td>Denmark</td>\n",
       "      <td>57.05N</td>\n",
       "      <td>10.33E</td>\n",
       "    </tr>\n",
       "    <tr>\n",
       "      <th>4</th>\n",
       "      <td>1744-03-01</td>\n",
       "      <td>NaN</td>\n",
       "      <td>NaN</td>\n",
       "      <td>Århus</td>\n",
       "      <td>Denmark</td>\n",
       "      <td>57.05N</td>\n",
       "      <td>10.33E</td>\n",
       "    </tr>\n",
       "  </tbody>\n",
       "</table>\n",
       "</div>"
      ],
      "text/plain": [
       "          dt  AverageTemperature  AverageTemperatureUncertainty   City  \\\n",
       "0 1743-11-01               6.068                          1.737  Århus   \n",
       "1 1743-12-01                 NaN                            NaN  Århus   \n",
       "2 1744-01-01                 NaN                            NaN  Århus   \n",
       "3 1744-02-01                 NaN                            NaN  Århus   \n",
       "4 1744-03-01                 NaN                            NaN  Århus   \n",
       "\n",
       "   Country Latitude Longitude  \n",
       "0  Denmark   57.05N    10.33E  \n",
       "1  Denmark   57.05N    10.33E  \n",
       "2  Denmark   57.05N    10.33E  \n",
       "3  Denmark   57.05N    10.33E  \n",
       "4  Denmark   57.05N    10.33E  "
      ]
     },
     "execution_count": 5,
     "metadata": {},
     "output_type": "execute_result"
    }
   ],
   "source": [
    "df_start.head()"
   ]
  },
  {
   "cell_type": "markdown",
   "id": "c5054140",
   "metadata": {},
   "source": [
    "Приведем столбцы к нижнему регистру"
   ]
  },
  {
   "cell_type": "code",
   "execution_count": 6,
   "id": "3de54a0d",
   "metadata": {},
   "outputs": [
    {
     "data": {
      "text/plain": [
       "Index(['dt', 'AverageTemperature', 'AverageTemperatureUncertainty', 'City',\n",
       "       'Country', 'Latitude', 'Longitude'],\n",
       "      dtype='object')"
      ]
     },
     "execution_count": 6,
     "metadata": {},
     "output_type": "execute_result"
    }
   ],
   "source": [
    "df_start.columns"
   ]
  },
  {
   "cell_type": "code",
   "execution_count": 7,
   "id": "50f0c25e",
   "metadata": {},
   "outputs": [],
   "source": [
    "df_start.columns = [x.lower() for x in df_start.columns]"
   ]
  },
  {
   "cell_type": "markdown",
   "id": "ab204f54",
   "metadata": {},
   "source": [
    "Создаем отдельную таблицу только для российских городов"
   ]
  },
  {
   "cell_type": "code",
   "execution_count": 8,
   "id": "71cec86f",
   "metadata": {},
   "outputs": [],
   "source": [
    "df_Russia = df_start[df_start['country'] == 'Russia']"
   ]
  },
  {
   "cell_type": "code",
   "execution_count": 9,
   "id": "ba64b3ff",
   "metadata": {},
   "outputs": [
    {
     "name": "stdout",
     "output_type": "stream",
     "text": [
      "<class 'pandas.core.frame.DataFrame'>\n",
      "Int64Index: 461234 entries, 30064 to 8578956\n",
      "Data columns (total 7 columns):\n",
      " #   Column                         Non-Null Count   Dtype         \n",
      "---  ------                         --------------   -----         \n",
      " 0   dt                             461234 non-null  datetime64[ns]\n",
      " 1   averagetemperature             448663 non-null  float64       \n",
      " 2   averagetemperatureuncertainty  448663 non-null  float64       \n",
      " 3   city                           461234 non-null  object        \n",
      " 4   country                        461234 non-null  object        \n",
      " 5   latitude                       461234 non-null  object        \n",
      " 6   longitude                      461234 non-null  object        \n",
      "dtypes: datetime64[ns](1), float64(2), object(4)\n",
      "memory usage: 28.2+ MB\n"
     ]
    }
   ],
   "source": [
    "df_Russia.info()"
   ]
  },
  {
   "cell_type": "markdown",
   "id": "f16ef031",
   "metadata": {},
   "source": [
    "Количество строк без значений меньше 10%, просто уберем их"
   ]
  },
  {
   "cell_type": "code",
   "execution_count": 10,
   "id": "e86f8bec",
   "metadata": {},
   "outputs": [],
   "source": [
    "df_Russia = df_Russia.dropna()"
   ]
  },
  {
   "cell_type": "code",
   "execution_count": 11,
   "id": "f29b4a1c",
   "metadata": {},
   "outputs": [
    {
     "name": "stdout",
     "output_type": "stream",
     "text": [
      "<class 'pandas.core.frame.DataFrame'>\n",
      "Int64Index: 448663 entries, 30064 to 8578955\n",
      "Data columns (total 7 columns):\n",
      " #   Column                         Non-Null Count   Dtype         \n",
      "---  ------                         --------------   -----         \n",
      " 0   dt                             448663 non-null  datetime64[ns]\n",
      " 1   averagetemperature             448663 non-null  float64       \n",
      " 2   averagetemperatureuncertainty  448663 non-null  float64       \n",
      " 3   city                           448663 non-null  object        \n",
      " 4   country                        448663 non-null  object        \n",
      " 5   latitude                       448663 non-null  object        \n",
      " 6   longitude                      448663 non-null  object        \n",
      "dtypes: datetime64[ns](1), float64(2), object(4)\n",
      "memory usage: 27.4+ MB\n"
     ]
    }
   ],
   "source": [
    "df_Russia.info()"
   ]
  },
  {
   "cell_type": "code",
   "execution_count": 12,
   "id": "e970e761",
   "metadata": {},
   "outputs": [],
   "source": [
    "russia_year_mean = (df_Russia.groupby(pd.Grouper(key='dt', freq='Y'))\n",
    "                  ['averagetemperature']\n",
    "                  .mean()\n",
    "                  .reset_index(name='Avg'))\n",
    "#russia_year_mean"
   ]
  },
  {
   "cell_type": "code",
   "execution_count": 13,
   "id": "77ca2a45",
   "metadata": {},
   "outputs": [],
   "source": [
    "russia_year_mean['dt'] = pd.DatetimeIndex(russia_year_mean['dt']).year\n",
    "russia_year_mean = russia_year_mean.dropna().reset_index(drop=True)"
   ]
  },
  {
   "cell_type": "markdown",
   "id": "b360f3ce",
   "metadata": {},
   "source": [
    "## Выход задачи 3"
   ]
  },
  {
   "cell_type": "code",
   "execution_count": 14,
   "id": "17c91503",
   "metadata": {},
   "outputs": [
    {
     "data": {
      "text/html": [
       "<div>\n",
       "<style scoped>\n",
       "    .dataframe tbody tr th:only-of-type {\n",
       "        vertical-align: middle;\n",
       "    }\n",
       "\n",
       "    .dataframe tbody tr th {\n",
       "        vertical-align: top;\n",
       "    }\n",
       "\n",
       "    .dataframe thead th {\n",
       "        text-align: right;\n",
       "    }\n",
       "</style>\n",
       "<table border=\"1\" class=\"dataframe\">\n",
       "  <thead>\n",
       "    <tr style=\"text-align: right;\">\n",
       "      <th></th>\n",
       "      <th>dt</th>\n",
       "      <th>Avg</th>\n",
       "    </tr>\n",
       "  </thead>\n",
       "  <tbody>\n",
       "    <tr>\n",
       "      <th>0</th>\n",
       "      <td>1743</td>\n",
       "      <td>-2.877295</td>\n",
       "    </tr>\n",
       "    <tr>\n",
       "      <th>1</th>\n",
       "      <td>1744</td>\n",
       "      <td>6.978618</td>\n",
       "    </tr>\n",
       "    <tr>\n",
       "      <th>2</th>\n",
       "      <td>1745</td>\n",
       "      <td>-6.259558</td>\n",
       "    </tr>\n",
       "    <tr>\n",
       "      <th>3</th>\n",
       "      <td>1750</td>\n",
       "      <td>4.992516</td>\n",
       "    </tr>\n",
       "    <tr>\n",
       "      <th>4</th>\n",
       "      <td>1751</td>\n",
       "      <td>5.290917</td>\n",
       "    </tr>\n",
       "    <tr>\n",
       "      <th>...</th>\n",
       "      <td>...</td>\n",
       "      <td>...</td>\n",
       "    </tr>\n",
       "    <tr>\n",
       "      <th>262</th>\n",
       "      <td>2009</td>\n",
       "      <td>4.449978</td>\n",
       "    </tr>\n",
       "    <tr>\n",
       "      <th>263</th>\n",
       "      <td>2010</td>\n",
       "      <td>4.640022</td>\n",
       "    </tr>\n",
       "    <tr>\n",
       "      <th>264</th>\n",
       "      <td>2011</td>\n",
       "      <td>4.386322</td>\n",
       "    </tr>\n",
       "    <tr>\n",
       "      <th>265</th>\n",
       "      <td>2012</td>\n",
       "      <td>4.501149</td>\n",
       "    </tr>\n",
       "    <tr>\n",
       "      <th>266</th>\n",
       "      <td>2013</td>\n",
       "      <td>5.999847</td>\n",
       "    </tr>\n",
       "  </tbody>\n",
       "</table>\n",
       "<p>267 rows × 2 columns</p>\n",
       "</div>"
      ],
      "text/plain": [
       "       dt       Avg\n",
       "0    1743 -2.877295\n",
       "1    1744  6.978618\n",
       "2    1745 -6.259558\n",
       "3    1750  4.992516\n",
       "4    1751  5.290917\n",
       "..    ...       ...\n",
       "262  2009  4.449978\n",
       "263  2010  4.640022\n",
       "264  2011  4.386322\n",
       "265  2012  4.501149\n",
       "266  2013  5.999847\n",
       "\n",
       "[267 rows x 2 columns]"
      ]
     },
     "execution_count": 14,
     "metadata": {},
     "output_type": "execute_result"
    }
   ],
   "source": [
    "russia_year_mean"
   ]
  },
  {
   "cell_type": "code",
   "execution_count": 15,
   "id": "621079c2",
   "metadata": {},
   "outputs": [
    {
     "data": {
      "text/plain": [
       "array(['Abakan', 'Achinsk', 'Almetyevsk', 'Angarsk', 'Arkhangelsk',\n",
       "       'Armavir', 'Arzamas', 'Astrakhan', 'Balakovo', 'Balashikha',\n",
       "       'Barnaul', 'Bataysk', 'Belgorod', 'Berezniki', 'Biysk',\n",
       "       'Blagoveshchensk', 'Bratsk', 'Bryansk', 'Cheboksary',\n",
       "       'Chelyabinsk', 'Cherepovets', 'Cherkessk', 'Chita', 'Derbent',\n",
       "       'Dimitrovgrad', 'Dzerzhinsk', 'Elektrostal', 'Elista', 'Engels',\n",
       "       'Glazov', 'Heihe', 'Irkutsk', 'Ivanovo', 'Izhevsk', 'Kaliningrad',\n",
       "       'Kaluga', 'Kamensk Uralskiy', 'Kamyshin', 'Kansk', 'Kazan',\n",
       "       'Kemerovo', 'Khabarovsk', 'Khimki', 'Kirov', 'Kislovodsk',\n",
       "       'Kolomna', 'Kolpino', 'Komsomolsk Na Amure', 'Kostroma', 'Kovrov',\n",
       "       'Krasnodar', 'Krasnoyarsk', 'Kurgan', 'Kursk', 'Kyzyl',\n",
       "       'Leninsk Kuznetskiy', 'Lipetsk', 'Lyubertsy', 'Magnitogorsk',\n",
       "       'Makhachkala', 'Maykop', 'Mezhdurechensk', 'Miass', 'Moscow',\n",
       "       'Murmansk', 'Murom', 'Mytishchi', 'Nakhodka', 'Nalchik', 'Nazran',\n",
       "       'Neftekamsk', 'Nefteyugansk', 'Nevinnomyssk', 'Nizhnekamsk',\n",
       "       'Nizhnevartovsk', 'Nizhniy Novgorod', 'Nizhniy Tagil', 'Noginsk',\n",
       "       'Norilsk', 'Novocheboksarsk', 'Novocherkassk', 'Novokuznetsk',\n",
       "       'Novomoskovsk', 'Novorossiysk', 'Novosibirsk', 'Novotroitsk',\n",
       "       'Obninsk', 'Odintsovo', 'Oktyabrskiy', 'Omsk', 'Orël',\n",
       "       'Orekhovo Zuevo', 'Orsk', 'Penza', 'Perm', 'Pervouralsk',\n",
       "       'Petropavlovsk Kamchatskiy', 'Petrozavodsk', 'Podolsk',\n",
       "       'Prokopyevsk', 'Pskov', 'Pyatigorsk', 'Rostov Na Donu',\n",
       "       'Rubtsovsk', 'Ryazan', 'Rybinsk', 'Saint Petersburg', 'Salavat',\n",
       "       'Samara', 'Saransk', 'Sarapul', 'Saratov', 'Sergiyev Posad',\n",
       "       'Serpukhov', 'Severodvinsk', 'Seversk', 'Shakhty', 'Smolensk',\n",
       "       'Sochi', 'Solikamsk', 'Staryy Oskol', 'Stavropol', 'Sterlitamak',\n",
       "       'Surgut', 'Syktyvkar', 'Syzran', 'Taganrog', 'Tambov', 'Tolyatti',\n",
       "       'Tomsk', 'Tula', 'Tver', 'Tyumen', 'Ufa', 'Ukhta', 'Ulan Ude',\n",
       "       'Ulyanovsk', 'Ussuriysk', 'Ust Ilimsk', 'Velikie Luki',\n",
       "       'Velikiy Novgorod', 'Vladikavkaz', 'Vladimir', 'Vladivostok',\n",
       "       'Volgodonsk', 'Volgograd', 'Vologda', 'Volzhskiy', 'Voronezh',\n",
       "       'Yaroslavl', 'Yekaterinburg', 'Yelets', 'Zelenodolsk',\n",
       "       'Zelenograd', 'Zhukovskiy', 'Zlatoust'], dtype=object)"
      ]
     },
     "execution_count": 15,
     "metadata": {},
     "output_type": "execute_result"
    }
   ],
   "source": [
    "df_Russia['city'].unique()"
   ]
  },
  {
   "cell_type": "code",
   "execution_count": 16,
   "id": "6d471f2a",
   "metadata": {},
   "outputs": [],
   "source": [
    "df_Belgorod = df_Russia[df_Russia['city'] == 'Belgorod']"
   ]
  },
  {
   "cell_type": "markdown",
   "id": "bd44bd68",
   "metadata": {},
   "source": [
    "## Выход задачи 4"
   ]
  },
  {
   "cell_type": "code",
   "execution_count": 17,
   "id": "0240816a",
   "metadata": {},
   "outputs": [
    {
     "data": {
      "text/html": [
       "<div>\n",
       "<style scoped>\n",
       "    .dataframe tbody tr th:only-of-type {\n",
       "        vertical-align: middle;\n",
       "    }\n",
       "\n",
       "    .dataframe tbody tr th {\n",
       "        vertical-align: top;\n",
       "    }\n",
       "\n",
       "    .dataframe thead th {\n",
       "        text-align: right;\n",
       "    }\n",
       "</style>\n",
       "<table border=\"1\" class=\"dataframe\">\n",
       "  <thead>\n",
       "    <tr style=\"text-align: right;\">\n",
       "      <th></th>\n",
       "      <th>dt</th>\n",
       "      <th>Avg</th>\n",
       "    </tr>\n",
       "  </thead>\n",
       "  <tbody>\n",
       "    <tr>\n",
       "      <th>0</th>\n",
       "      <td>1743</td>\n",
       "      <td>-0.878000</td>\n",
       "    </tr>\n",
       "    <tr>\n",
       "      <th>1</th>\n",
       "      <td>1744</td>\n",
       "      <td>8.821500</td>\n",
       "    </tr>\n",
       "    <tr>\n",
       "      <th>2</th>\n",
       "      <td>1745</td>\n",
       "      <td>-4.053000</td>\n",
       "    </tr>\n",
       "    <tr>\n",
       "      <th>3</th>\n",
       "      <td>1750</td>\n",
       "      <td>6.877364</td>\n",
       "    </tr>\n",
       "    <tr>\n",
       "      <th>4</th>\n",
       "      <td>1751</td>\n",
       "      <td>7.243625</td>\n",
       "    </tr>\n",
       "    <tr>\n",
       "      <th>...</th>\n",
       "      <td>...</td>\n",
       "      <td>...</td>\n",
       "    </tr>\n",
       "    <tr>\n",
       "      <th>262</th>\n",
       "      <td>2009</td>\n",
       "      <td>8.003750</td>\n",
       "    </tr>\n",
       "    <tr>\n",
       "      <th>263</th>\n",
       "      <td>2010</td>\n",
       "      <td>8.646750</td>\n",
       "    </tr>\n",
       "    <tr>\n",
       "      <th>264</th>\n",
       "      <td>2011</td>\n",
       "      <td>7.250750</td>\n",
       "    </tr>\n",
       "    <tr>\n",
       "      <th>265</th>\n",
       "      <td>2012</td>\n",
       "      <td>8.009750</td>\n",
       "    </tr>\n",
       "    <tr>\n",
       "      <th>266</th>\n",
       "      <td>2013</td>\n",
       "      <td>9.845375</td>\n",
       "    </tr>\n",
       "  </tbody>\n",
       "</table>\n",
       "<p>267 rows × 2 columns</p>\n",
       "</div>"
      ],
      "text/plain": [
       "       dt       Avg\n",
       "0    1743 -0.878000\n",
       "1    1744  8.821500\n",
       "2    1745 -4.053000\n",
       "3    1750  6.877364\n",
       "4    1751  7.243625\n",
       "..    ...       ...\n",
       "262  2009  8.003750\n",
       "263  2010  8.646750\n",
       "264  2011  7.250750\n",
       "265  2012  8.009750\n",
       "266  2013  9.845375\n",
       "\n",
       "[267 rows x 2 columns]"
      ]
     },
     "execution_count": 17,
     "metadata": {},
     "output_type": "execute_result"
    }
   ],
   "source": [
    "Belgorod_year_mean = (df_Belgorod.groupby(pd.Grouper(key='dt', freq='Y'))\n",
    "                  ['averagetemperature']\n",
    "                  .mean()\n",
    "                  .reset_index(name='Avg'))\n",
    "Belgorod_year_mean['dt'] = pd.DatetimeIndex(Belgorod_year_mean['dt']).year\n",
    "Belgorod_year_mean = Belgorod_year_mean.dropna().reset_index(drop=True)\n",
    "Belgorod_year_mean"
   ]
  },
  {
   "cell_type": "code",
   "execution_count": 18,
   "id": "d02ad193",
   "metadata": {},
   "outputs": [],
   "source": [
    "df_Abakan = df_Russia[df_Russia['city'] == 'Abakan']"
   ]
  },
  {
   "cell_type": "markdown",
   "id": "3cd8e6a2",
   "metadata": {},
   "source": [
    "## Выход задачи 5"
   ]
  },
  {
   "cell_type": "code",
   "execution_count": 19,
   "id": "fb1b6530",
   "metadata": {
    "scrolled": false
   },
   "outputs": [
    {
     "data": {
      "text/html": [
       "<div>\n",
       "<style scoped>\n",
       "    .dataframe tbody tr th:only-of-type {\n",
       "        vertical-align: middle;\n",
       "    }\n",
       "\n",
       "    .dataframe tbody tr th {\n",
       "        vertical-align: top;\n",
       "    }\n",
       "\n",
       "    .dataframe thead th {\n",
       "        text-align: right;\n",
       "    }\n",
       "</style>\n",
       "<table border=\"1\" class=\"dataframe\">\n",
       "  <thead>\n",
       "    <tr style=\"text-align: right;\">\n",
       "      <th></th>\n",
       "      <th>Максимальная среднегодовая температура в Абакане</th>\n",
       "      <th>Минимальная среднегодовая температура в Абакане</th>\n",
       "      <th>Максимальная среднемесячная температура в Абакане</th>\n",
       "      <th>Минимальная среднемесячная температура в Абакане</th>\n",
       "    </tr>\n",
       "  </thead>\n",
       "  <tbody>\n",
       "    <tr>\n",
       "      <th>dt</th>\n",
       "      <td>2013.000000</td>\n",
       "      <td>1820.000</td>\n",
       "      <td>12.000</td>\n",
       "      <td>1.000</td>\n",
       "    </tr>\n",
       "    <tr>\n",
       "      <th>Avg</th>\n",
       "      <td>2.606583</td>\n",
       "      <td>-2.778</td>\n",
       "      <td>21.503</td>\n",
       "      <td>-31.138</td>\n",
       "    </tr>\n",
       "  </tbody>\n",
       "</table>\n",
       "</div>"
      ],
      "text/plain": [
       "     Максимальная среднегодовая температура в Абакане  \\\n",
       "dt                                        2013.000000   \n",
       "Avg                                          2.606583   \n",
       "\n",
       "     Минимальная среднегодовая температура в Абакане  \\\n",
       "dt                                          1820.000   \n",
       "Avg                                           -2.778   \n",
       "\n",
       "     Максимальная среднемесячная температура в Абакане  \\\n",
       "dt                                              12.000   \n",
       "Avg                                             21.503   \n",
       "\n",
       "     Минимальная среднемесячная температура в Абакане  \n",
       "dt                                              1.000  \n",
       "Avg                                           -31.138  "
      ]
     },
     "execution_count": 19,
     "metadata": {},
     "output_type": "execute_result"
    }
   ],
   "source": [
    "Abakan_year_mean = (df_Abakan.groupby(pd.Grouper(key='dt', freq='Y'))\n",
    "                  ['averagetemperature']\n",
    "                  .mean()\n",
    "                  .reset_index(name='Avg'))\n",
    "Abakan_year_mean['dt'] = pd.DatetimeIndex(Abakan_year_mean['dt']).year\n",
    "Abakan_year_mean = Abakan_year_mean.dropna().reset_index(drop=True)\n",
    "\n",
    "Abakan_month_mean = (df_Abakan.groupby(pd.Grouper(key='dt', freq='M'))\n",
    "                  ['averagetemperature']\n",
    "                  .mean()\n",
    "                  .reset_index(name='Avg'))\n",
    "Abakan_month_mean['dt'] = pd.DatetimeIndex(Abakan_month_mean['dt']).month\n",
    "Abakan_month_mean = Abakan_month_mean.dropna().reset_index(drop=True)\n",
    "\n",
    "Abakan_year_max = Abakan_year_mean.max()\n",
    "Abakan_year_min = Abakan_year_mean.min()\n",
    "Abakan_month_max = Abakan_month_mean.max()\n",
    "Abakan_month_min = Abakan_month_mean.min()\n",
    "res = pd.DataFrame({'Максимальная среднегодовая температура в Абакане': Abakan_year_max, 'Минимальная среднегодовая температура в Абакане': Abakan_year_min,\n",
    "                   'Максимальная среднемесячная температура в Абакане': Abakan_month_max, 'Минимальная среднемесячная температура в Абакане': Abakan_month_min})\n",
    "res"
   ]
  },
  {
   "cell_type": "markdown",
   "id": "fc3b90cb",
   "metadata": {},
   "source": [
    "## Выход задачи 6"
   ]
  },
  {
   "cell_type": "code",
   "execution_count": 20,
   "id": "171f8502",
   "metadata": {},
   "outputs": [
    {
     "name": "stdout",
     "output_type": "stream",
     "text": [
      "Максимальная температура:  2013-08-01 00:00:00\n",
      "Минимальная температура:  1743-11-01 00:00:00\n"
     ]
    }
   ],
   "source": [
    "df_Arkhangelsk = df_Russia[df_Russia['city'] == 'Arkhangelsk']\n",
    "ar_max = df_Arkhangelsk.max()\n",
    "ar_min = df_Arkhangelsk.min()\n",
    "print('Максимальная температура: ', ar_max['dt'])\n",
    "print('Минимальная температура: ', ar_min['dt'])"
   ]
  },
  {
   "cell_type": "markdown",
   "id": "855de8f5",
   "metadata": {},
   "source": [
    "## Выход задачи 7"
   ]
  },
  {
   "cell_type": "code",
   "execution_count": 21,
   "id": "d85d3e6f",
   "metadata": {},
   "outputs": [
    {
     "data": {
      "image/png": "[encoded data removed]",
      "text/plain": [
       "<Figure size 640x480 with 1 Axes>"
      ]
     },
     "metadata": {},
     "output_type": "display_data"
    }
   ],
   "source": [
    "a = sns.lineplot(data = russia_year_mean, x = 'dt', y = 'Avg')\n",
    "a.grid()"
   ]
  },
  {
   "cell_type": "code",
   "execution_count": 22,
   "id": "fb7fb4a4",
   "metadata": {},
   "outputs": [],
   "source": [
    "df_Blagoveshchensk = df_Russia[df_Russia['city'] == 'Blagoveshchensk']"
   ]
  },
  {
   "cell_type": "code",
   "execution_count": 23,
   "id": "b547e160",
   "metadata": {},
   "outputs": [
    {
     "data": {
      "text/html": [
       "<div>\n",
       "<style scoped>\n",
       "    .dataframe tbody tr th:only-of-type {\n",
       "        vertical-align: middle;\n",
       "    }\n",
       "\n",
       "    .dataframe tbody tr th {\n",
       "        vertical-align: top;\n",
       "    }\n",
       "\n",
       "    .dataframe thead th {\n",
       "        text-align: right;\n",
       "    }\n",
       "</style>\n",
       "<table border=\"1\" class=\"dataframe\">\n",
       "  <thead>\n",
       "    <tr style=\"text-align: right;\">\n",
       "      <th></th>\n",
       "      <th>dt</th>\n",
       "      <th>Avg</th>\n",
       "    </tr>\n",
       "  </thead>\n",
       "  <tbody>\n",
       "    <tr>\n",
       "      <th>0</th>\n",
       "      <td>1743</td>\n",
       "      <td>-0.878000</td>\n",
       "    </tr>\n",
       "    <tr>\n",
       "      <th>1</th>\n",
       "      <td>1744</td>\n",
       "      <td>8.821500</td>\n",
       "    </tr>\n",
       "    <tr>\n",
       "      <th>2</th>\n",
       "      <td>1745</td>\n",
       "      <td>-4.053000</td>\n",
       "    </tr>\n",
       "    <tr>\n",
       "      <th>3</th>\n",
       "      <td>1750</td>\n",
       "      <td>6.877364</td>\n",
       "    </tr>\n",
       "    <tr>\n",
       "      <th>4</th>\n",
       "      <td>1751</td>\n",
       "      <td>7.243625</td>\n",
       "    </tr>\n",
       "    <tr>\n",
       "      <th>...</th>\n",
       "      <td>...</td>\n",
       "      <td>...</td>\n",
       "    </tr>\n",
       "    <tr>\n",
       "      <th>262</th>\n",
       "      <td>2009</td>\n",
       "      <td>8.003750</td>\n",
       "    </tr>\n",
       "    <tr>\n",
       "      <th>263</th>\n",
       "      <td>2010</td>\n",
       "      <td>8.646750</td>\n",
       "    </tr>\n",
       "    <tr>\n",
       "      <th>264</th>\n",
       "      <td>2011</td>\n",
       "      <td>7.250750</td>\n",
       "    </tr>\n",
       "    <tr>\n",
       "      <th>265</th>\n",
       "      <td>2012</td>\n",
       "      <td>8.009750</td>\n",
       "    </tr>\n",
       "    <tr>\n",
       "      <th>266</th>\n",
       "      <td>2013</td>\n",
       "      <td>9.845375</td>\n",
       "    </tr>\n",
       "  </tbody>\n",
       "</table>\n",
       "<p>267 rows × 2 columns</p>\n",
       "</div>"
      ],
      "text/plain": [
       "       dt       Avg\n",
       "0    1743 -0.878000\n",
       "1    1744  8.821500\n",
       "2    1745 -4.053000\n",
       "3    1750  6.877364\n",
       "4    1751  7.243625\n",
       "..    ...       ...\n",
       "262  2009  8.003750\n",
       "263  2010  8.646750\n",
       "264  2011  7.250750\n",
       "265  2012  8.009750\n",
       "266  2013  9.845375\n",
       "\n",
       "[267 rows x 2 columns]"
      ]
     },
     "execution_count": 23,
     "metadata": {},
     "output_type": "execute_result"
    }
   ],
   "source": [
    "Blagoveshchensk_year_mean = (df_Blagoveshchensk.groupby(pd.Grouper(key='dt', freq='Y'))\n",
    "                  ['averagetemperature']\n",
    "                  .mean()\n",
    "                  .reset_index(name='Avg'))\n",
    "Blagoveshchensk_year_mean['dt'] = pd.DatetimeIndex(Blagoveshchensk_year_mean['dt']).year\n",
    "Blagoveshchensk_year_mean = Belgorod_year_mean.dropna().reset_index(drop=True)\n",
    "Blagoveshchensk_year_mean"
   ]
  },
  {
   "cell_type": "markdown",
   "id": "6036e66d",
   "metadata": {},
   "source": [
    "## Выход задачи 8"
   ]
  },
  {
   "cell_type": "code",
   "execution_count": 24,
   "id": "861d723b",
   "metadata": {},
   "outputs": [
    {
     "data": {
      "image/png": "[encoded data removed]",
      "text/plain": [
       "<Figure size 640x480 with 1 Axes>"
      ]
     },
     "metadata": {},
     "output_type": "display_data"
    }
   ],
   "source": [
    "a = sns.lineplot(data = Blagoveshchensk_year_mean, x = 'dt', y = 'Avg')\n",
    "a.grid()"
   ]
  },
  {
   "cell_type": "code",
   "execution_count": 25,
   "id": "dc7287dc",
   "metadata": {},
   "outputs": [
    {
     "data": {
      "text/html": [
       "<div>\n",
       "<style scoped>\n",
       "    .dataframe tbody tr th:only-of-type {\n",
       "        vertical-align: middle;\n",
       "    }\n",
       "\n",
       "    .dataframe tbody tr th {\n",
       "        vertical-align: top;\n",
       "    }\n",
       "\n",
       "    .dataframe thead th {\n",
       "        text-align: right;\n",
       "    }\n",
       "</style>\n",
       "<table border=\"1\" class=\"dataframe\">\n",
       "  <thead>\n",
       "    <tr style=\"text-align: right;\">\n",
       "      <th></th>\n",
       "      <th>dt</th>\n",
       "      <th>Avg</th>\n",
       "    </tr>\n",
       "  </thead>\n",
       "  <tbody>\n",
       "    <tr>\n",
       "      <th>0</th>\n",
       "      <td>11</td>\n",
       "      <td>-2.877295</td>\n",
       "    </tr>\n",
       "    <tr>\n",
       "      <th>1</th>\n",
       "      <td>4</td>\n",
       "      <td>6.722853</td>\n",
       "    </tr>\n",
       "    <tr>\n",
       "      <th>2</th>\n",
       "      <td>5</td>\n",
       "      <td>10.550411</td>\n",
       "    </tr>\n",
       "    <tr>\n",
       "      <th>3</th>\n",
       "      <td>6</td>\n",
       "      <td>16.255926</td>\n",
       "    </tr>\n",
       "    <tr>\n",
       "      <th>4</th>\n",
       "      <td>7</td>\n",
       "      <td>18.511821</td>\n",
       "    </tr>\n",
       "    <tr>\n",
       "      <th>...</th>\n",
       "      <td>...</td>\n",
       "      <td>...</td>\n",
       "    </tr>\n",
       "    <tr>\n",
       "      <th>3161</th>\n",
       "      <td>4</td>\n",
       "      <td>5.214122</td>\n",
       "    </tr>\n",
       "    <tr>\n",
       "      <th>3162</th>\n",
       "      <td>5</td>\n",
       "      <td>13.672333</td>\n",
       "    </tr>\n",
       "    <tr>\n",
       "      <th>3163</th>\n",
       "      <td>6</td>\n",
       "      <td>18.079391</td>\n",
       "    </tr>\n",
       "    <tr>\n",
       "      <th>3164</th>\n",
       "      <td>7</td>\n",
       "      <td>19.187853</td>\n",
       "    </tr>\n",
       "    <tr>\n",
       "      <th>3165</th>\n",
       "      <td>8</td>\n",
       "      <td>18.115962</td>\n",
       "    </tr>\n",
       "  </tbody>\n",
       "</table>\n",
       "<p>3166 rows × 2 columns</p>\n",
       "</div>"
      ],
      "text/plain": [
       "      dt        Avg\n",
       "0     11  -2.877295\n",
       "1      4   6.722853\n",
       "2      5  10.550411\n",
       "3      6  16.255926\n",
       "4      7  18.511821\n",
       "...   ..        ...\n",
       "3161   4   5.214122\n",
       "3162   5  13.672333\n",
       "3163   6  18.079391\n",
       "3164   7  19.187853\n",
       "3165   8  18.115962\n",
       "\n",
       "[3166 rows x 2 columns]"
      ]
     },
     "execution_count": 25,
     "metadata": {},
     "output_type": "execute_result"
    }
   ],
   "source": [
    "russia_month_mean = (df_Russia.groupby(pd.Grouper(key='dt', freq='M'))\n",
    "                  ['averagetemperature']\n",
    "                  .mean()\n",
    "                  .reset_index(name='Avg'))\n",
    "\n",
    "russia_month_mean['dt'] = pd.DatetimeIndex(russia_month_mean['dt']).month\n",
    "russia_month_mean = russia_month_mean.dropna().reset_index(drop=True)\n",
    "\n",
    "russia_month_mean"
   ]
  },
  {
   "cell_type": "markdown",
   "id": "a9f41117",
   "metadata": {},
   "source": [
    "## Выход задачи 10"
   ]
  },
  {
   "cell_type": "code",
   "execution_count": 26,
   "id": "8940299c",
   "metadata": {},
   "outputs": [
    {
     "data": {
      "text/plain": [
       "<seaborn.axisgrid.FacetGrid at 0x1c94db44eb0>"
      ]
     },
     "execution_count": 26,
     "metadata": {},
     "output_type": "execute_result"
    },
    {
     "data": {
      "image/png": "[encoded data removed]",
      "text/plain": [
       "<Figure size 500x500 with 1 Axes>"
      ]
     },
     "metadata": {},
     "output_type": "display_data"
    }
   ],
   "source": [
    "sns.displot(russia_month_mean, x='Avg', bins=200, kde=True)"
   ]
  },
  {
   "cell_type": "code",
   "execution_count": 27,
   "id": "c44ab1e8",
   "metadata": {},
   "outputs": [],
   "source": [
    "df_Bataysk = df_Russia[df_Russia['city'] == 'Bataysk']"
   ]
  },
  {
   "cell_type": "code",
   "execution_count": 28,
   "id": "0a029f02",
   "metadata": {},
   "outputs": [
    {
     "data": {
      "text/html": [
       "<div>\n",
       "<style scoped>\n",
       "    .dataframe tbody tr th:only-of-type {\n",
       "        vertical-align: middle;\n",
       "    }\n",
       "\n",
       "    .dataframe tbody tr th {\n",
       "        vertical-align: top;\n",
       "    }\n",
       "\n",
       "    .dataframe thead th {\n",
       "        text-align: right;\n",
       "    }\n",
       "</style>\n",
       "<table border=\"1\" class=\"dataframe\">\n",
       "  <thead>\n",
       "    <tr style=\"text-align: right;\">\n",
       "      <th></th>\n",
       "      <th>dt</th>\n",
       "      <th>Avg</th>\n",
       "    </tr>\n",
       "  </thead>\n",
       "  <tbody>\n",
       "    <tr>\n",
       "      <th>0</th>\n",
       "      <td>12</td>\n",
       "      <td>1.770000</td>\n",
       "    </tr>\n",
       "    <tr>\n",
       "      <th>1</th>\n",
       "      <td>12</td>\n",
       "      <td>11.519375</td>\n",
       "    </tr>\n",
       "    <tr>\n",
       "      <th>2</th>\n",
       "      <td>12</td>\n",
       "      <td>-1.096500</td>\n",
       "    </tr>\n",
       "    <tr>\n",
       "      <th>3</th>\n",
       "      <td>12</td>\n",
       "      <td>9.611727</td>\n",
       "    </tr>\n",
       "    <tr>\n",
       "      <th>4</th>\n",
       "      <td>12</td>\n",
       "      <td>10.170875</td>\n",
       "    </tr>\n",
       "    <tr>\n",
       "      <th>...</th>\n",
       "      <td>...</td>\n",
       "      <td>...</td>\n",
       "    </tr>\n",
       "    <tr>\n",
       "      <th>262</th>\n",
       "      <td>12</td>\n",
       "      <td>10.807417</td>\n",
       "    </tr>\n",
       "    <tr>\n",
       "      <th>263</th>\n",
       "      <td>12</td>\n",
       "      <td>11.681500</td>\n",
       "    </tr>\n",
       "    <tr>\n",
       "      <th>264</th>\n",
       "      <td>12</td>\n",
       "      <td>9.619667</td>\n",
       "    </tr>\n",
       "    <tr>\n",
       "      <th>265</th>\n",
       "      <td>12</td>\n",
       "      <td>10.625583</td>\n",
       "    </tr>\n",
       "    <tr>\n",
       "      <th>266</th>\n",
       "      <td>12</td>\n",
       "      <td>12.857875</td>\n",
       "    </tr>\n",
       "  </tbody>\n",
       "</table>\n",
       "<p>267 rows × 2 columns</p>\n",
       "</div>"
      ],
      "text/plain": [
       "     dt        Avg\n",
       "0    12   1.770000\n",
       "1    12  11.519375\n",
       "2    12  -1.096500\n",
       "3    12   9.611727\n",
       "4    12  10.170875\n",
       "..   ..        ...\n",
       "262  12  10.807417\n",
       "263  12  11.681500\n",
       "264  12   9.619667\n",
       "265  12  10.625583\n",
       "266  12  12.857875\n",
       "\n",
       "[267 rows x 2 columns]"
      ]
     },
     "execution_count": 28,
     "metadata": {},
     "output_type": "execute_result"
    }
   ],
   "source": [
    "Bataysk_month_mean = (df_Bataysk.groupby(pd.Grouper(key='dt', freq='Y'))\n",
    "                  ['averagetemperature']\n",
    "                  .mean()\n",
    "                  .reset_index(name='Avg'))\n",
    "Bataysk_month_mean['dt'] = pd.DatetimeIndex(Bataysk_month_mean['dt']).month\n",
    "Bataysk_month_mean = Bataysk_month_mean.dropna().reset_index(drop=True)\n",
    "Bataysk_month_mean"
   ]
  },
  {
   "cell_type": "markdown",
   "id": "6649a6b6",
   "metadata": {},
   "source": [
    "## Выход задачи 11"
   ]
  },
  {
   "cell_type": "code",
   "execution_count": 29,
   "id": "5171c068",
   "metadata": {},
   "outputs": [
    {
     "data": {
      "text/plain": [
       "<seaborn.axisgrid.FacetGrid at 0x1c95455ce20>"
      ]
     },
     "execution_count": 29,
     "metadata": {},
     "output_type": "execute_result"
    },
    {
     "data": {
      "image/png": "[encoded data removed]",
      "text/plain": [
       "<Figure size 500x500 with 1 Axes>"
      ]
     },
     "metadata": {},
     "output_type": "display_data"
    }
   ],
   "source": [
    "sns.displot(Bataysk_month_mean, x='Avg', bins=200, kde=True)"
   ]
  }
 ],
 "metadata": {
  "kernelspec": {
   "display_name": "Python 3",
   "language": "python",
   "name": "python3"
  },
  "language_info": {
   "codemirror_mode": {
    "name": "ipython",
    "version": 3
   },
   "file_extension": ".py",
   "mimetype": "text/x-python",
   "name": "python",
   "nbconvert_exporter": "python",
   "pygments_lexer": "ipython3",
   "version": "3.9.13"
  }
 },
 "nbformat": 4,
 "nbformat_minor": 5
}
